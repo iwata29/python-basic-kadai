{
  "nbformat": 4,
  "nbformat_minor": 0,
  "metadata": {
    "colab": {
      "provenance": []
    },
    "kernelspec": {
      "name": "python3",
      "display_name": "Python 3"
    },
    "language_info": {
      "name": "python"
    }
  },
  "cells": [
    {
      "cell_type": "code",
      "execution_count": 7,
      "metadata": {
        "colab": {
          "base_uri": "https://localhost:8080/"
        },
        "id": "jUZumQA85Pg1",
        "outputId": "76855c57-16d3-4409-d5e7-19e8767335b5"
      },
      "outputs": [
        {
          "output_type": "execute_result",
          "data": {
            "text/plain": [
              "121.0"
            ]
          },
          "metadata": {},
          "execution_count": 7
        }
      ],
      "source": [
        "def calculate_price(price, consumption_tax):\n",
        "\n",
        "    total = price + (price * consumption_tax / 100)\n",
        "\n",
        "    return total\n",
        "calculate_price(110, 10)"
      ]
    }
  ]
}