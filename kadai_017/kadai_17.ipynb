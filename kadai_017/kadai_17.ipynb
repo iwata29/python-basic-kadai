{
  "nbformat": 4,
  "nbformat_minor": 0,
  "metadata": {
    "colab": {
      "provenance": []
    },
    "kernelspec": {
      "name": "python3",
      "display_name": "Python 3"
    },
    "language_info": {
      "name": "python"
    }
  },
  "cells": [
    {
      "cell_type": "code",
      "source": [
        "class Human:\n",
        "    def __init__(self, name, age):\n",
        "        self.name = name\n",
        "        self.age = age\n",
        "\n",
        "    def check_adult(self):\n",
        "        if self.age >= 20:\n",
        "            print(f\"{self.name}は大人です\")\n",
        "\n",
        "        else:\n",
        "            print(f\"{self.name}は大人ではない\")\n",
        "\n",
        "check_adult =[Human(\"岩田\", 33), Human(\"佐藤\", 10), Human(\"伊藤\", 6), Human(\"山田\", 47)]\n",
        "\n",
        "for Human in check_adult:\n",
        "    Human.check_adult()"
      ],
      "metadata": {
        "colab": {
          "base_uri": "https://localhost:8080/"
        },
        "id": "WvZDnaZBNxwi",
        "outputId": "0edf1a09-bb38-497e-a33b-86b6b2acb774"
      },
      "execution_count": 12,
      "outputs": [
        {
          "output_type": "stream",
          "name": "stdout",
          "text": [
            "岩田は大人です\n",
            "佐藤は大人ではない\n",
            "伊藤は大人ではない\n",
            "山田は大人です\n"
          ]
        }
      ]
    }
  ]
}