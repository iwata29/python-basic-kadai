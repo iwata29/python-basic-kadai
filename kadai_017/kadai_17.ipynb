{
  "nbformat": 4,
  "nbformat_minor": 0,
  "metadata": {
    "colab": {
      "provenance": []
    },
    "kernelspec": {
      "name": "python3",
      "display_name": "Python 3"
    },
    "language_info": {
      "name": "python"
    }
  },
  "cells": [
    {
      "cell_type": "code",
      "source": [
        "class Human:\n",
        "    def __init__(self, name, age):\n",
        "        self.name = name\n",
        "        self.age = age\n",
        "\n",
        "    def check_adult(self):\n",
        "        if self.age >= 20:\n",
        "            print(f\"{self.name}は大人です\")\n",
        "\n",
        "        else:\n",
        "            print(f\"{self.name}大人ではない\")\n",
        "\n",
        "check_adult = Human(\"岩田\", 33)\n",
        "\n",
        "check_adult.check_adult()\n"
      ],
      "metadata": {
        "colab": {
          "base_uri": "https://localhost:8080/"
        },
        "id": "WvZDnaZBNxwi",
        "outputId": "afef339e-3b0e-4aa6-d027-9806581a8db3"
      },
      "execution_count": 22,
      "outputs": [
        {
          "output_type": "stream",
          "name": "stdout",
          "text": [
            "岩田は大人です\n"
          ]
        }
      ]
    }
  ]
}