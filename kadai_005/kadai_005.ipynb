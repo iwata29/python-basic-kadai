{
  "nbformat": 4,
  "nbformat_minor": 0,
  "metadata": {
    "colab": {
      "provenance": []
    },
    "kernelspec": {
      "name": "python3",
      "display_name": "Python 3"
    },
    "language_info": {
      "name": "python"
    }
  },
  "cells": [
    {
      "cell_type": "code",
      "execution_count": 1,
      "metadata": {
        "id": "Yfz8pj_D9rMy"
      },
      "outputs": [],
      "source": [
        "up_base = 10\n",
        "low_base = 20\n",
        "height = 5"
      ]
    },
    {
      "cell_type": "code",
      "source": [
        "area =(up_base + low_base) * height / 2"
      ],
      "metadata": {
        "id": "Caj-2MtU-UtU"
      },
      "execution_count": 9,
      "outputs": []
    },
    {
      "cell_type": "code",
      "source": [
        "print(f\"台形の面積は {area} ㎠\")"
      ],
      "metadata": {
        "colab": {
          "base_uri": "https://localhost:8080/"
        },
        "id": "QTFL7bNH-1MN",
        "outputId": "44c2f568-4737-4bb9-d4a5-ae2969d436ca"
      },
      "execution_count": 10,
      "outputs": [
        {
          "output_type": "stream",
          "name": "stdout",
          "text": [
            "台形の面積は 75.0 ㎠\n"
          ]
        }
      ]
    }
  ]
}